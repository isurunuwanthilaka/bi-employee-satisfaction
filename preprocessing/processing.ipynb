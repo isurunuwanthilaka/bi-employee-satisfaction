{
 "cells": [
  {
   "cell_type": "code",
   "execution_count": 20,
   "metadata": {},
   "outputs": [],
   "source": [
    "import pandas as pd\n",
    "from sklearn.model_selection import train_test_split\n",
    "\n",
    "df = pd.read_csv('../data/HR_comma_sep.csv')"
   ]
  },
  {
   "cell_type": "code",
   "execution_count": 21,
   "metadata": {},
   "outputs": [
    {
     "name": "stdout",
     "output_type": "stream",
     "text": [
      "{'hr', 'IT', 'management', 'marketing', 'support', 'technical', 'sales', 'product_mng', 'accounting', 'RandD'}\n",
      "{'high', 'medium', 'low'}\n"
     ]
    }
   ],
   "source": [
    "print(set(df['sales']))\n",
    "print(set(df['salary']))"
   ]
  },
  {
   "cell_type": "code",
   "execution_count": 22,
   "metadata": {},
   "outputs": [
    {
     "name": "stdout",
     "output_type": "stream",
     "text": [
      "<bound method NDFrame.head of        satisfaction_level  last_evaluation  number_project  \\\n",
      "0                    0.38             0.53               2   \n",
      "1                    0.80             0.86               5   \n",
      "2                    0.11             0.88               7   \n",
      "3                    0.72             0.87               5   \n",
      "4                    0.37             0.52               2   \n",
      "...                   ...              ...             ...   \n",
      "14994                0.40             0.57               2   \n",
      "14995                0.37             0.48               2   \n",
      "14996                0.37             0.53               2   \n",
      "14997                0.11             0.96               6   \n",
      "14998                0.37             0.52               2   \n",
      "\n",
      "       average_montly_hours  time_spend_company  Work_accident  left  \\\n",
      "0                       157                   3              0     1   \n",
      "1                       262                   6              0     1   \n",
      "2                       272                   4              0     1   \n",
      "3                       223                   5              0     1   \n",
      "4                       159                   3              0     1   \n",
      "...                     ...                 ...            ...   ...   \n",
      "14994                   151                   3              0     1   \n",
      "14995                   160                   3              0     1   \n",
      "14996                   143                   3              0     1   \n",
      "14997                   280                   4              0     1   \n",
      "14998                   158                   3              0     1   \n",
      "\n",
      "       promotion_last_5years    sales  salary  \n",
      "0                          0    sales     low  \n",
      "1                          0    sales  medium  \n",
      "2                          0    sales  medium  \n",
      "3                          0    sales     low  \n",
      "4                          0    sales     low  \n",
      "...                      ...      ...     ...  \n",
      "14994                      0  support     low  \n",
      "14995                      0  support     low  \n",
      "14996                      0  support     low  \n",
      "14997                      0  support     low  \n",
      "14998                      0  support     low  \n",
      "\n",
      "[14999 rows x 10 columns]>\n"
     ]
    }
   ],
   "source": [
    "print(df.head)"
   ]
  },
  {
   "cell_type": "code",
   "execution_count": 23,
   "metadata": {},
   "outputs": [],
   "source": [
    "def mapper(num):\n",
    "    return str(round(num*5))"
   ]
  },
  {
   "cell_type": "code",
   "execution_count": null,
   "metadata": {},
   "outputs": [],
   "source": [
    "#clean the sales and salary columns\n",
    "df.replace(to_replace =\"low\", value = 0, inplace = True)\n",
    "df.replace(to_replace =\"medium\", value = 1, inplace = True)\n",
    "df.replace(to_replace =\"high\", value = 2, inplace = True)\n",
    "\n",
    "df.replace(to_replace =\"RandD\", value = 0, inplace = True)\n",
    "df.replace(to_replace =\"hr\", value = 1, inplace = True)\n",
    "df.replace(to_replace =\"IT\", value = 2, inplace = True)\n",
    "df.replace(to_replace =\"marketing\", value = 3, inplace = True)\n",
    "df.replace(to_replace =\"support\", value = 4, inplace = True)\n",
    "df.replace(to_replace =\"management\", value = 5, inplace = True)\n",
    "df.replace(to_replace =\"technical\", value = 6, inplace = True)\n",
    "df.replace(to_replace =\"product_mng\", value = 7, inplace = True)\n",
    "df.replace(to_replace =\"sales\", value = 8, inplace = True)\n",
    "df.replace(to_replace =\"accounting\", value = 9, inplace = True)\n",
    "\n",
    "#clean the satisfaction column\n",
    "df['satisfaction_level'] = df['satisfaction_level'].apply(lambda x: mapper(x))\n",
    "  \n",
    "df.to_csv('../data/cleaned-file.csv', index = False)"
   ]
  },
  {
   "cell_type": "code",
   "execution_count": null,
   "metadata": {},
   "outputs": [],
   "source": [
    "train, test = train_test_split(df, test_size=0.2)\n",
    "\n",
    "train.to_csv('../data/train-file.csv', index=False)\n",
    "test.to_csv('../data/test-file.csv', index=False)"
   ]
  }
 ],
 "metadata": {
  "interpreter": {
   "hash": "aee8b7b246df8f9039afb4144a1f6fd8d2ca17a180786b69acc140d282b71a49"
  },
  "kernelspec": {
   "display_name": "Python 3.10.0 64-bit",
   "language": "python",
   "name": "python3"
  },
  "language_info": {
   "codemirror_mode": {
    "name": "ipython",
    "version": 3
   },
   "file_extension": ".py",
   "mimetype": "text/x-python",
   "name": "python",
   "nbconvert_exporter": "python",
   "pygments_lexer": "ipython3",
   "version": "3.10.0"
  },
  "orig_nbformat": 4
 },
 "nbformat": 4,
 "nbformat_minor": 2
}
